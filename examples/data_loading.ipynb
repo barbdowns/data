{
 "cells": [
  {
   "cell_type": "markdown",
   "metadata": {},
   "source": [
    "# Loading the Open COVID-19 Dataset\n",
    "This very short notebook showcases how to load the [Open COVID-19 datset](https://github.com/open-covid-19/data), including some examples for commonly performed operations.\n",
    "\n",
    "First, loading the data is very simple with `pandas`. We can use the CSV master table to download the entire Open COVID-19 dataset in a single step:"
   ]
  },
  {
   "cell_type": "code",
   "execution_count": 1,
   "metadata": {
    "tags": []
   },
   "outputs": [
    {
     "output_type": "stream",
     "name": "stdout",
     "text": "The dataset currently contains 44433 records, here is a sample:\n"
    },
    {
     "output_type": "execute_result",
     "data": {
      "text/plain": "               key        date  wikidata  datacommons country_code  \\\n13168        HT_AR  2020-06-27   Q844024          NaN           HT   \n2794   CO_05_05664  2020-06-26  Q1441754          NaN           CO   \n10632           ES  2020-06-24       Q29  country/ESP           ES   \n33565  US_ND_38023  2020-06-27    Q28311  geoId/38023           US   \n19626         PY_3  2020-06-28   Q755121          NaN           PY   \n\n                   country_name subregion1_code        subregion1_name  \\\n13168                     Haiti              AR             Artibonite   \n2794                   Colombia              05              Antioquia   \n10632                     Spain             NaN                    NaN   \n33565  United States of America              ND           North Dakota   \n19626                  Paraguay               3  Cordillera Department   \n\n      subregion2_code            subregion2_name  ... snowfall  \\\n13168             NaN                        NaN  ...      NaN   \n2794             5664  San Pedro De Los Milagros  ...      NaN   \n10632             NaN                        NaN  ...      NaN   \n33565           38023              Divide County  ...      NaN   \n19626             NaN                        NaN  ...      NaN   \n\n      new_hospitalized  total_hospitalized  current_hospitalized  \\\n13168              NaN                 NaN                   NaN   \n2794               NaN                 NaN                   NaN   \n10632              NaN                 NaN                   NaN   \n33565              NaN                 NaN                   NaN   \n19626              NaN                 NaN                   NaN   \n\n       new_intensive_care  total_intensive_care  current_intensive_care  \\\n13168                 NaN                   NaN                     NaN   \n2794                  NaN                   NaN                     NaN   \n10632                 NaN                   NaN                     NaN   \n33565                 NaN                   NaN                     NaN   \n19626                 NaN                   NaN                     NaN   \n\n       new_ventilator  total_ventilator  current_ventilator  \n13168             NaN               NaN                 NaN  \n2794              NaN               NaN                 NaN  \n10632             NaN               NaN                 NaN  \n33565             NaN               NaN                 NaN  \n19626             NaN               NaN                 NaN  \n\n[5 rows x 103 columns]",
      "text/html": "<div>\n<style scoped>\n    .dataframe tbody tr th:only-of-type {\n        vertical-align: middle;\n    }\n\n    .dataframe tbody tr th {\n        vertical-align: top;\n    }\n\n    .dataframe thead th {\n        text-align: right;\n    }\n</style>\n<table border=\"1\" class=\"dataframe\">\n  <thead>\n    <tr style=\"text-align: right;\">\n      <th></th>\n      <th>key</th>\n      <th>date</th>\n      <th>wikidata</th>\n      <th>datacommons</th>\n      <th>country_code</th>\n      <th>country_name</th>\n      <th>subregion1_code</th>\n      <th>subregion1_name</th>\n      <th>subregion2_code</th>\n      <th>subregion2_name</th>\n      <th>...</th>\n      <th>snowfall</th>\n      <th>new_hospitalized</th>\n      <th>total_hospitalized</th>\n      <th>current_hospitalized</th>\n      <th>new_intensive_care</th>\n      <th>total_intensive_care</th>\n      <th>current_intensive_care</th>\n      <th>new_ventilator</th>\n      <th>total_ventilator</th>\n      <th>current_ventilator</th>\n    </tr>\n  </thead>\n  <tbody>\n    <tr>\n      <th>13168</th>\n      <td>HT_AR</td>\n      <td>2020-06-27</td>\n      <td>Q844024</td>\n      <td>NaN</td>\n      <td>HT</td>\n      <td>Haiti</td>\n      <td>AR</td>\n      <td>Artibonite</td>\n      <td>NaN</td>\n      <td>NaN</td>\n      <td>...</td>\n      <td>NaN</td>\n      <td>NaN</td>\n      <td>NaN</td>\n      <td>NaN</td>\n      <td>NaN</td>\n      <td>NaN</td>\n      <td>NaN</td>\n      <td>NaN</td>\n      <td>NaN</td>\n      <td>NaN</td>\n    </tr>\n    <tr>\n      <th>2794</th>\n      <td>CO_05_05664</td>\n      <td>2020-06-26</td>\n      <td>Q1441754</td>\n      <td>NaN</td>\n      <td>CO</td>\n      <td>Colombia</td>\n      <td>05</td>\n      <td>Antioquia</td>\n      <td>5664</td>\n      <td>San Pedro De Los Milagros</td>\n      <td>...</td>\n      <td>NaN</td>\n      <td>NaN</td>\n      <td>NaN</td>\n      <td>NaN</td>\n      <td>NaN</td>\n      <td>NaN</td>\n      <td>NaN</td>\n      <td>NaN</td>\n      <td>NaN</td>\n      <td>NaN</td>\n    </tr>\n    <tr>\n      <th>10632</th>\n      <td>ES</td>\n      <td>2020-06-24</td>\n      <td>Q29</td>\n      <td>country/ESP</td>\n      <td>ES</td>\n      <td>Spain</td>\n      <td>NaN</td>\n      <td>NaN</td>\n      <td>NaN</td>\n      <td>NaN</td>\n      <td>...</td>\n      <td>NaN</td>\n      <td>NaN</td>\n      <td>NaN</td>\n      <td>NaN</td>\n      <td>NaN</td>\n      <td>NaN</td>\n      <td>NaN</td>\n      <td>NaN</td>\n      <td>NaN</td>\n      <td>NaN</td>\n    </tr>\n    <tr>\n      <th>33565</th>\n      <td>US_ND_38023</td>\n      <td>2020-06-27</td>\n      <td>Q28311</td>\n      <td>geoId/38023</td>\n      <td>US</td>\n      <td>United States of America</td>\n      <td>ND</td>\n      <td>North Dakota</td>\n      <td>38023</td>\n      <td>Divide County</td>\n      <td>...</td>\n      <td>NaN</td>\n      <td>NaN</td>\n      <td>NaN</td>\n      <td>NaN</td>\n      <td>NaN</td>\n      <td>NaN</td>\n      <td>NaN</td>\n      <td>NaN</td>\n      <td>NaN</td>\n      <td>NaN</td>\n    </tr>\n    <tr>\n      <th>19626</th>\n      <td>PY_3</td>\n      <td>2020-06-28</td>\n      <td>Q755121</td>\n      <td>NaN</td>\n      <td>PY</td>\n      <td>Paraguay</td>\n      <td>3</td>\n      <td>Cordillera Department</td>\n      <td>NaN</td>\n      <td>NaN</td>\n      <td>...</td>\n      <td>NaN</td>\n      <td>NaN</td>\n      <td>NaN</td>\n      <td>NaN</td>\n      <td>NaN</td>\n      <td>NaN</td>\n      <td>NaN</td>\n      <td>NaN</td>\n      <td>NaN</td>\n      <td>NaN</td>\n    </tr>\n  </tbody>\n</table>\n<p>5 rows × 103 columns</p>\n</div>"
     },
     "metadata": {},
     "execution_count": 1
    }
   ],
   "source": [
    "import pandas as pd\n",
    "\n",
    "# Load CSV data directly from the URL with pandas, the options are needed to prevent\n",
    "# reading of records with key \"NA\" (Namibia) as NaN\n",
    "data = pd.read_csv(\n",
    "    \"https://storage.googleapis.com/covid19-open-data/v2/7/main.csv\",\n",
    "    keep_default_na=False,\n",
    "    na_values=[\"\"],\n",
    ")\n",
    "\n",
    "# NOTE: We are only downloading the last 7 days of data, but you can download all\n",
    "# the data at once if you'd like by changing the URL to:\n",
    "# https://storage.googleapis.com/covid19-open-data/v2/main.csvhttps://storage.googleapis.com/covid19-open-data/v2/main.csv\n",
    "\n",
    "\n",
    "# Print a small snippet of the dataset\n",
    "print(f\"The dataset currently contains {len(data)} records, here is a sample:\")\n",
    "data.sample(5)"
   ]
  },
  {
   "cell_type": "markdown",
   "metadata": {},
   "source": [
    "### Looking at country-level data\n",
    "Some records contain country-level data, in other words, data that is aggregated at the country level. Other records contain region-level data, which are subdivisions of a country; for example, Chinese provinces or USA states. A few regions also report at an even smaller subdivision, i.e. county/municipality level.\n",
    "\n",
    "To filter only country-level data from the dataset, look for records that have a `aggregation_level == 0` or, alternatively, null value for the `subregion1_code` (or `subregion1_name`) field:"
   ]
  },
  {
   "cell_type": "code",
   "execution_count": 2,
   "metadata": {},
   "outputs": [
    {
     "output_type": "execute_result",
     "data": {
      "text/plain": "      key        date wikidata  datacommons country_code country_name  \\\n44428  ZW  2020-06-25     Q954  country/ZWE           ZW     Zimbabwe   \n44429  ZW  2020-06-26     Q954  country/ZWE           ZW     Zimbabwe   \n44430  ZW  2020-06-27     Q954  country/ZWE           ZW     Zimbabwe   \n44431  ZW  2020-06-28     Q954  country/ZWE           ZW     Zimbabwe   \n44432  ZW  2020-06-29     Q954  country/ZWE           ZW     Zimbabwe   \n\n      3166-1-alpha-2 3166-1-alpha-3  aggregation_level  school_closing  ...  \\\n44428             ZW            ZWE                  0             NaN  ...   \n44429             ZW            ZWE                  0             NaN  ...   \n44430             ZW            ZWE                  0             NaN  ...   \n44431             ZW            ZWE                  0             NaN  ...   \n44432             ZW            ZWE                  0             NaN  ...   \n\n       snowfall  new_hospitalized  total_hospitalized  current_hospitalized  \\\n44428       NaN               NaN                 NaN                   NaN   \n44429       NaN               NaN                 NaN                   NaN   \n44430       NaN               NaN                 NaN                   NaN   \n44431       NaN               NaN                 NaN                   NaN   \n44432       NaN               NaN                 NaN                   NaN   \n\n       new_intensive_care  total_intensive_care  current_intensive_care  \\\n44428                 NaN                   NaN                     NaN   \n44429                 NaN                   NaN                     NaN   \n44430                 NaN                   NaN                     NaN   \n44431                 NaN                   NaN                     NaN   \n44432                 NaN                   NaN                     NaN   \n\n       new_ventilator  total_ventilator  current_ventilator  \n44428             NaN               NaN                 NaN  \n44429             NaN               NaN                 NaN  \n44430             NaN               NaN                 NaN  \n44431             NaN               NaN                 NaN  \n44432             NaN               NaN                 NaN  \n\n[5 rows x 99 columns]",
      "text/html": "<div>\n<style scoped>\n    .dataframe tbody tr th:only-of-type {\n        vertical-align: middle;\n    }\n\n    .dataframe tbody tr th {\n        vertical-align: top;\n    }\n\n    .dataframe thead th {\n        text-align: right;\n    }\n</style>\n<table border=\"1\" class=\"dataframe\">\n  <thead>\n    <tr style=\"text-align: right;\">\n      <th></th>\n      <th>key</th>\n      <th>date</th>\n      <th>wikidata</th>\n      <th>datacommons</th>\n      <th>country_code</th>\n      <th>country_name</th>\n      <th>3166-1-alpha-2</th>\n      <th>3166-1-alpha-3</th>\n      <th>aggregation_level</th>\n      <th>school_closing</th>\n      <th>...</th>\n      <th>snowfall</th>\n      <th>new_hospitalized</th>\n      <th>total_hospitalized</th>\n      <th>current_hospitalized</th>\n      <th>new_intensive_care</th>\n      <th>total_intensive_care</th>\n      <th>current_intensive_care</th>\n      <th>new_ventilator</th>\n      <th>total_ventilator</th>\n      <th>current_ventilator</th>\n    </tr>\n  </thead>\n  <tbody>\n    <tr>\n      <th>44428</th>\n      <td>ZW</td>\n      <td>2020-06-25</td>\n      <td>Q954</td>\n      <td>country/ZWE</td>\n      <td>ZW</td>\n      <td>Zimbabwe</td>\n      <td>ZW</td>\n      <td>ZWE</td>\n      <td>0</td>\n      <td>NaN</td>\n      <td>...</td>\n      <td>NaN</td>\n      <td>NaN</td>\n      <td>NaN</td>\n      <td>NaN</td>\n      <td>NaN</td>\n      <td>NaN</td>\n      <td>NaN</td>\n      <td>NaN</td>\n      <td>NaN</td>\n      <td>NaN</td>\n    </tr>\n    <tr>\n      <th>44429</th>\n      <td>ZW</td>\n      <td>2020-06-26</td>\n      <td>Q954</td>\n      <td>country/ZWE</td>\n      <td>ZW</td>\n      <td>Zimbabwe</td>\n      <td>ZW</td>\n      <td>ZWE</td>\n      <td>0</td>\n      <td>NaN</td>\n      <td>...</td>\n      <td>NaN</td>\n      <td>NaN</td>\n      <td>NaN</td>\n      <td>NaN</td>\n      <td>NaN</td>\n      <td>NaN</td>\n      <td>NaN</td>\n      <td>NaN</td>\n      <td>NaN</td>\n      <td>NaN</td>\n    </tr>\n    <tr>\n      <th>44430</th>\n      <td>ZW</td>\n      <td>2020-06-27</td>\n      <td>Q954</td>\n      <td>country/ZWE</td>\n      <td>ZW</td>\n      <td>Zimbabwe</td>\n      <td>ZW</td>\n      <td>ZWE</td>\n      <td>0</td>\n      <td>NaN</td>\n      <td>...</td>\n      <td>NaN</td>\n      <td>NaN</td>\n      <td>NaN</td>\n      <td>NaN</td>\n      <td>NaN</td>\n      <td>NaN</td>\n      <td>NaN</td>\n      <td>NaN</td>\n      <td>NaN</td>\n      <td>NaN</td>\n    </tr>\n    <tr>\n      <th>44431</th>\n      <td>ZW</td>\n      <td>2020-06-28</td>\n      <td>Q954</td>\n      <td>country/ZWE</td>\n      <td>ZW</td>\n      <td>Zimbabwe</td>\n      <td>ZW</td>\n      <td>ZWE</td>\n      <td>0</td>\n      <td>NaN</td>\n      <td>...</td>\n      <td>NaN</td>\n      <td>NaN</td>\n      <td>NaN</td>\n      <td>NaN</td>\n      <td>NaN</td>\n      <td>NaN</td>\n      <td>NaN</td>\n      <td>NaN</td>\n      <td>NaN</td>\n      <td>NaN</td>\n    </tr>\n    <tr>\n      <th>44432</th>\n      <td>ZW</td>\n      <td>2020-06-29</td>\n      <td>Q954</td>\n      <td>country/ZWE</td>\n      <td>ZW</td>\n      <td>Zimbabwe</td>\n      <td>ZW</td>\n      <td>ZWE</td>\n      <td>0</td>\n      <td>NaN</td>\n      <td>...</td>\n      <td>NaN</td>\n      <td>NaN</td>\n      <td>NaN</td>\n      <td>NaN</td>\n      <td>NaN</td>\n      <td>NaN</td>\n      <td>NaN</td>\n      <td>NaN</td>\n      <td>NaN</td>\n      <td>NaN</td>\n    </tr>\n  </tbody>\n</table>\n<p>5 rows × 99 columns</p>\n</div>"
     },
     "metadata": {},
     "execution_count": 2
    }
   ],
   "source": [
    "# Look for rows with country level data\n",
    "# Same as `data[data.subregion2_code.isna()]`\n",
    "countries = data[data.aggregation_level == 0]\n",
    "\n",
    "# We no longer need the subregion-level columns\n",
    "countries = countries.drop(columns=['subregion1_code', 'subregion1_name', 'subregion2_code', 'subregion2_name'])\n",
    "\n",
    "countries.tail()"
   ]
  },
  {
   "cell_type": "markdown",
   "metadata": {},
   "source": [
    "### Looking at state/province data\n",
    "Conversely, to filter state/province data for a specific country, we need to look for records where the aggregation level is `1` (or where the region columns have non-null values). The following snippet extracts data related to Spain's subregions from the dataset:"
   ]
  },
  {
   "cell_type": "code",
   "execution_count": 3,
   "metadata": {},
   "outputs": [
    {
     "output_type": "execute_result",
     "data": {
      "text/plain": "         key        date wikidata datacommons country_code country_name  \\\n10732  ES_VC  2020-06-23    Q5720   nuts/ES52           ES        Spain   \n10733  ES_VC  2020-06-24    Q5720   nuts/ES52           ES        Spain   \n10734  ES_VC  2020-06-25    Q5720   nuts/ES52           ES        Spain   \n10735  ES_VC  2020-06-26    Q5720   nuts/ES52           ES        Spain   \n10736  ES_VC  2020-06-27    Q5720   nuts/ES52           ES        Spain   \n\n      subregion1_code       subregion1_name 3166-1-alpha-2 3166-1-alpha-3  \\\n10732              VC  Comunidad Valenciana             ES            ESP   \n10733              VC  Comunidad Valenciana             ES            ESP   \n10734              VC  Comunidad Valenciana             ES            ESP   \n10735              VC  Comunidad Valenciana             ES            ESP   \n10736              VC  Comunidad Valenciana             ES            ESP   \n\n       ...  snowfall  new_hospitalized  total_hospitalized  \\\n10732  ...       NaN               NaN                 NaN   \n10733  ...       NaN               NaN                 NaN   \n10734  ...       NaN               NaN                 NaN   \n10735  ...       NaN               NaN                 NaN   \n10736  ...       NaN               NaN                 NaN   \n\n       current_hospitalized  new_intensive_care  total_intensive_care  \\\n10732                   NaN                 NaN                   NaN   \n10733                   NaN                 NaN                   NaN   \n10734                   NaN                 NaN                   NaN   \n10735                   NaN                 NaN                   NaN   \n10736                   NaN                 NaN                   NaN   \n\n       current_intensive_care  new_ventilator  total_ventilator  \\\n10732                     NaN             NaN               NaN   \n10733                     NaN             NaN               NaN   \n10734                     NaN             NaN               NaN   \n10735                     NaN             NaN               NaN   \n10736                     NaN             NaN               NaN   \n\n       current_ventilator  \n10732                 NaN  \n10733                 NaN  \n10734                 NaN  \n10735                 NaN  \n10736                 NaN  \n\n[5 rows x 101 columns]",
      "text/html": "<div>\n<style scoped>\n    .dataframe tbody tr th:only-of-type {\n        vertical-align: middle;\n    }\n\n    .dataframe tbody tr th {\n        vertical-align: top;\n    }\n\n    .dataframe thead th {\n        text-align: right;\n    }\n</style>\n<table border=\"1\" class=\"dataframe\">\n  <thead>\n    <tr style=\"text-align: right;\">\n      <th></th>\n      <th>key</th>\n      <th>date</th>\n      <th>wikidata</th>\n      <th>datacommons</th>\n      <th>country_code</th>\n      <th>country_name</th>\n      <th>subregion1_code</th>\n      <th>subregion1_name</th>\n      <th>3166-1-alpha-2</th>\n      <th>3166-1-alpha-3</th>\n      <th>...</th>\n      <th>snowfall</th>\n      <th>new_hospitalized</th>\n      <th>total_hospitalized</th>\n      <th>current_hospitalized</th>\n      <th>new_intensive_care</th>\n      <th>total_intensive_care</th>\n      <th>current_intensive_care</th>\n      <th>new_ventilator</th>\n      <th>total_ventilator</th>\n      <th>current_ventilator</th>\n    </tr>\n  </thead>\n  <tbody>\n    <tr>\n      <th>10732</th>\n      <td>ES_VC</td>\n      <td>2020-06-23</td>\n      <td>Q5720</td>\n      <td>nuts/ES52</td>\n      <td>ES</td>\n      <td>Spain</td>\n      <td>VC</td>\n      <td>Comunidad Valenciana</td>\n      <td>ES</td>\n      <td>ESP</td>\n      <td>...</td>\n      <td>NaN</td>\n      <td>NaN</td>\n      <td>NaN</td>\n      <td>NaN</td>\n      <td>NaN</td>\n      <td>NaN</td>\n      <td>NaN</td>\n      <td>NaN</td>\n      <td>NaN</td>\n      <td>NaN</td>\n    </tr>\n    <tr>\n      <th>10733</th>\n      <td>ES_VC</td>\n      <td>2020-06-24</td>\n      <td>Q5720</td>\n      <td>nuts/ES52</td>\n      <td>ES</td>\n      <td>Spain</td>\n      <td>VC</td>\n      <td>Comunidad Valenciana</td>\n      <td>ES</td>\n      <td>ESP</td>\n      <td>...</td>\n      <td>NaN</td>\n      <td>NaN</td>\n      <td>NaN</td>\n      <td>NaN</td>\n      <td>NaN</td>\n      <td>NaN</td>\n      <td>NaN</td>\n      <td>NaN</td>\n      <td>NaN</td>\n      <td>NaN</td>\n    </tr>\n    <tr>\n      <th>10734</th>\n      <td>ES_VC</td>\n      <td>2020-06-25</td>\n      <td>Q5720</td>\n      <td>nuts/ES52</td>\n      <td>ES</td>\n      <td>Spain</td>\n      <td>VC</td>\n      <td>Comunidad Valenciana</td>\n      <td>ES</td>\n      <td>ESP</td>\n      <td>...</td>\n      <td>NaN</td>\n      <td>NaN</td>\n      <td>NaN</td>\n      <td>NaN</td>\n      <td>NaN</td>\n      <td>NaN</td>\n      <td>NaN</td>\n      <td>NaN</td>\n      <td>NaN</td>\n      <td>NaN</td>\n    </tr>\n    <tr>\n      <th>10735</th>\n      <td>ES_VC</td>\n      <td>2020-06-26</td>\n      <td>Q5720</td>\n      <td>nuts/ES52</td>\n      <td>ES</td>\n      <td>Spain</td>\n      <td>VC</td>\n      <td>Comunidad Valenciana</td>\n      <td>ES</td>\n      <td>ESP</td>\n      <td>...</td>\n      <td>NaN</td>\n      <td>NaN</td>\n      <td>NaN</td>\n      <td>NaN</td>\n      <td>NaN</td>\n      <td>NaN</td>\n      <td>NaN</td>\n      <td>NaN</td>\n      <td>NaN</td>\n      <td>NaN</td>\n    </tr>\n    <tr>\n      <th>10736</th>\n      <td>ES_VC</td>\n      <td>2020-06-27</td>\n      <td>Q5720</td>\n      <td>nuts/ES52</td>\n      <td>ES</td>\n      <td>Spain</td>\n      <td>VC</td>\n      <td>Comunidad Valenciana</td>\n      <td>ES</td>\n      <td>ESP</td>\n      <td>...</td>\n      <td>NaN</td>\n      <td>NaN</td>\n      <td>NaN</td>\n      <td>NaN</td>\n      <td>NaN</td>\n      <td>NaN</td>\n      <td>NaN</td>\n      <td>NaN</td>\n      <td>NaN</td>\n      <td>NaN</td>\n    </tr>\n  </tbody>\n</table>\n<p>5 rows × 101 columns</p>\n</div>"
     },
     "metadata": {},
     "execution_count": 3
    }
   ],
   "source": [
    "# Filter records that have the right country code AND a non-null region code\n",
    "# Same as `data[(data.country_code == 'ES') & ~(data.subregion`_code.isna())]`\n",
    "spain_regions = data[(data.country_code == 'ES') & (data.aggregation_level == 1)]\n",
    "\n",
    "# We no longer need the municipality-level columns\n",
    "spain_regions = spain_regions.drop(columns=['subregion2_code', 'subregion2_name'])\n",
    "\n",
    "spain_regions.tail()"
   ]
  },
  {
   "cell_type": "markdown",
   "metadata": {},
   "source": [
    "### Using the `key` column\n",
    "The `key` column is present in all datasets and is unique for each combination of country, province/state and municipality/county. This way, we can retrieve a specific country or region using a single filter for the data. The `key` column is built using `country_code` for country-level data, `${country_code}_${subregion1_code}` for province/state level data, and `${country_code}_${subregion1_code}_${subregion2_code}` for municipality/county data:"
   ]
  },
  {
   "cell_type": "code",
   "execution_count": 4,
   "metadata": {},
   "outputs": [
    {
     "output_type": "execute_result",
     "data": {
      "text/plain": "      key        date wikidata  datacommons country_code country_name  \\\n10634  ES  2020-06-26      Q29  country/ESP           ES        Spain   \n10635  ES  2020-06-27      Q29  country/ESP           ES        Spain   \n10636  ES  2020-06-28      Q29  country/ESP           ES        Spain   \n10637  ES  2020-06-29      Q29  country/ESP           ES        Spain   \n10638  ES  2020-06-30      Q29  country/ESP           ES        Spain   \n\n      3166-1-alpha-2 3166-1-alpha-3  aggregation_level  school_closing  ...  \\\n10634             ES            ESP                  0             3.0  ...   \n10635             ES            ESP                  0             NaN  ...   \n10636             ES            ESP                  0             NaN  ...   \n10637             ES            ESP                  0             NaN  ...   \n10638             ES            ESP                  0             NaN  ...   \n\n       snowfall  new_hospitalized  total_hospitalized  current_hospitalized  \\\n10634       NaN               NaN                 NaN                   NaN   \n10635       NaN               NaN                 NaN                   NaN   \n10636       NaN               NaN                 NaN                   NaN   \n10637       NaN               NaN                 NaN                   NaN   \n10638       NaN               NaN                 NaN                   NaN   \n\n       new_intensive_care  total_intensive_care  current_intensive_care  \\\n10634                 NaN                   NaN                     NaN   \n10635                 NaN                   NaN                     NaN   \n10636                 NaN                   NaN                     NaN   \n10637                 NaN                   NaN                     NaN   \n10638                 NaN                   NaN                     NaN   \n\n       new_ventilator  total_ventilator  current_ventilator  \n10634             NaN               NaN                 NaN  \n10635             NaN               NaN                 NaN  \n10636             NaN               NaN                 NaN  \n10637             NaN               NaN                 NaN  \n10638             NaN               NaN                 NaN  \n\n[5 rows x 99 columns]",
      "text/html": "<div>\n<style scoped>\n    .dataframe tbody tr th:only-of-type {\n        vertical-align: middle;\n    }\n\n    .dataframe tbody tr th {\n        vertical-align: top;\n    }\n\n    .dataframe thead th {\n        text-align: right;\n    }\n</style>\n<table border=\"1\" class=\"dataframe\">\n  <thead>\n    <tr style=\"text-align: right;\">\n      <th></th>\n      <th>key</th>\n      <th>date</th>\n      <th>wikidata</th>\n      <th>datacommons</th>\n      <th>country_code</th>\n      <th>country_name</th>\n      <th>3166-1-alpha-2</th>\n      <th>3166-1-alpha-3</th>\n      <th>aggregation_level</th>\n      <th>school_closing</th>\n      <th>...</th>\n      <th>snowfall</th>\n      <th>new_hospitalized</th>\n      <th>total_hospitalized</th>\n      <th>current_hospitalized</th>\n      <th>new_intensive_care</th>\n      <th>total_intensive_care</th>\n      <th>current_intensive_care</th>\n      <th>new_ventilator</th>\n      <th>total_ventilator</th>\n      <th>current_ventilator</th>\n    </tr>\n  </thead>\n  <tbody>\n    <tr>\n      <th>10634</th>\n      <td>ES</td>\n      <td>2020-06-26</td>\n      <td>Q29</td>\n      <td>country/ESP</td>\n      <td>ES</td>\n      <td>Spain</td>\n      <td>ES</td>\n      <td>ESP</td>\n      <td>0</td>\n      <td>3.0</td>\n      <td>...</td>\n      <td>NaN</td>\n      <td>NaN</td>\n      <td>NaN</td>\n      <td>NaN</td>\n      <td>NaN</td>\n      <td>NaN</td>\n      <td>NaN</td>\n      <td>NaN</td>\n      <td>NaN</td>\n      <td>NaN</td>\n    </tr>\n    <tr>\n      <th>10635</th>\n      <td>ES</td>\n      <td>2020-06-27</td>\n      <td>Q29</td>\n      <td>country/ESP</td>\n      <td>ES</td>\n      <td>Spain</td>\n      <td>ES</td>\n      <td>ESP</td>\n      <td>0</td>\n      <td>NaN</td>\n      <td>...</td>\n      <td>NaN</td>\n      <td>NaN</td>\n      <td>NaN</td>\n      <td>NaN</td>\n      <td>NaN</td>\n      <td>NaN</td>\n      <td>NaN</td>\n      <td>NaN</td>\n      <td>NaN</td>\n      <td>NaN</td>\n    </tr>\n    <tr>\n      <th>10636</th>\n      <td>ES</td>\n      <td>2020-06-28</td>\n      <td>Q29</td>\n      <td>country/ESP</td>\n      <td>ES</td>\n      <td>Spain</td>\n      <td>ES</td>\n      <td>ESP</td>\n      <td>0</td>\n      <td>NaN</td>\n      <td>...</td>\n      <td>NaN</td>\n      <td>NaN</td>\n      <td>NaN</td>\n      <td>NaN</td>\n      <td>NaN</td>\n      <td>NaN</td>\n      <td>NaN</td>\n      <td>NaN</td>\n      <td>NaN</td>\n      <td>NaN</td>\n    </tr>\n    <tr>\n      <th>10637</th>\n      <td>ES</td>\n      <td>2020-06-29</td>\n      <td>Q29</td>\n      <td>country/ESP</td>\n      <td>ES</td>\n      <td>Spain</td>\n      <td>ES</td>\n      <td>ESP</td>\n      <td>0</td>\n      <td>NaN</td>\n      <td>...</td>\n      <td>NaN</td>\n      <td>NaN</td>\n      <td>NaN</td>\n      <td>NaN</td>\n      <td>NaN</td>\n      <td>NaN</td>\n      <td>NaN</td>\n      <td>NaN</td>\n      <td>NaN</td>\n      <td>NaN</td>\n    </tr>\n    <tr>\n      <th>10638</th>\n      <td>ES</td>\n      <td>2020-06-30</td>\n      <td>Q29</td>\n      <td>country/ESP</td>\n      <td>ES</td>\n      <td>Spain</td>\n      <td>ES</td>\n      <td>ESP</td>\n      <td>0</td>\n      <td>NaN</td>\n      <td>...</td>\n      <td>NaN</td>\n      <td>NaN</td>\n      <td>NaN</td>\n      <td>NaN</td>\n      <td>NaN</td>\n      <td>NaN</td>\n      <td>NaN</td>\n      <td>NaN</td>\n      <td>NaN</td>\n      <td>NaN</td>\n    </tr>\n  </tbody>\n</table>\n<p>5 rows × 99 columns</p>\n</div>"
     },
     "metadata": {},
     "execution_count": 4
    }
   ],
   "source": [
    "# Filter records for Spain at the country-level\n",
    "spain_country = data[data.key == 'ES']\n",
    "\n",
    "# We no longer need the subregion-level columns\n",
    "spain_country = spain_country.drop(columns=['subregion1_code', 'subregion1_name', 'subregion2_code', 'subregion2_name'])\n",
    "\n",
    "spain_country.tail()"
   ]
  },
  {
   "cell_type": "code",
   "execution_count": 5,
   "metadata": {},
   "outputs": [
    {
     "output_type": "execute_result",
     "data": {
      "text/plain": "         key        date wikidata datacommons country_code country_name  \\\n10706  ES_MD  2020-06-23    Q5756   nuts/ES30           ES        Spain   \n10707  ES_MD  2020-06-24    Q5756   nuts/ES30           ES        Spain   \n10708  ES_MD  2020-06-25    Q5756   nuts/ES30           ES        Spain   \n10709  ES_MD  2020-06-26    Q5756   nuts/ES30           ES        Spain   \n10710  ES_MD  2020-06-27    Q5756   nuts/ES30           ES        Spain   \n\n      subregion1_code      subregion1_name subregion2_code subregion2_name  \\\n10706              MD  Comunidad de Madrid             NaN             NaN   \n10707              MD  Comunidad de Madrid             NaN             NaN   \n10708              MD  Comunidad de Madrid             NaN             NaN   \n10709              MD  Comunidad de Madrid             NaN             NaN   \n10710              MD  Comunidad de Madrid             NaN             NaN   \n\n       ... snowfall new_hospitalized  total_hospitalized  \\\n10706  ...      NaN              NaN                 NaN   \n10707  ...      NaN              NaN                 NaN   \n10708  ...      NaN              NaN                 NaN   \n10709  ...      NaN              NaN                 NaN   \n10710  ...      NaN              NaN                 NaN   \n\n       current_hospitalized  new_intensive_care  total_intensive_care  \\\n10706                   NaN                 NaN                   NaN   \n10707                   NaN                 NaN                   NaN   \n10708                   NaN                 NaN                   NaN   \n10709                   NaN                 NaN                   NaN   \n10710                   NaN                 NaN                   NaN   \n\n       current_intensive_care  new_ventilator  total_ventilator  \\\n10706                     NaN             NaN               NaN   \n10707                     NaN             NaN               NaN   \n10708                     NaN             NaN               NaN   \n10709                     NaN             NaN               NaN   \n10710                     NaN             NaN               NaN   \n\n       current_ventilator  \n10706                 NaN  \n10707                 NaN  \n10708                 NaN  \n10709                 NaN  \n10710                 NaN  \n\n[5 rows x 103 columns]",
      "text/html": "<div>\n<style scoped>\n    .dataframe tbody tr th:only-of-type {\n        vertical-align: middle;\n    }\n\n    .dataframe tbody tr th {\n        vertical-align: top;\n    }\n\n    .dataframe thead th {\n        text-align: right;\n    }\n</style>\n<table border=\"1\" class=\"dataframe\">\n  <thead>\n    <tr style=\"text-align: right;\">\n      <th></th>\n      <th>key</th>\n      <th>date</th>\n      <th>wikidata</th>\n      <th>datacommons</th>\n      <th>country_code</th>\n      <th>country_name</th>\n      <th>subregion1_code</th>\n      <th>subregion1_name</th>\n      <th>subregion2_code</th>\n      <th>subregion2_name</th>\n      <th>...</th>\n      <th>snowfall</th>\n      <th>new_hospitalized</th>\n      <th>total_hospitalized</th>\n      <th>current_hospitalized</th>\n      <th>new_intensive_care</th>\n      <th>total_intensive_care</th>\n      <th>current_intensive_care</th>\n      <th>new_ventilator</th>\n      <th>total_ventilator</th>\n      <th>current_ventilator</th>\n    </tr>\n  </thead>\n  <tbody>\n    <tr>\n      <th>10706</th>\n      <td>ES_MD</td>\n      <td>2020-06-23</td>\n      <td>Q5756</td>\n      <td>nuts/ES30</td>\n      <td>ES</td>\n      <td>Spain</td>\n      <td>MD</td>\n      <td>Comunidad de Madrid</td>\n      <td>NaN</td>\n      <td>NaN</td>\n      <td>...</td>\n      <td>NaN</td>\n      <td>NaN</td>\n      <td>NaN</td>\n      <td>NaN</td>\n      <td>NaN</td>\n      <td>NaN</td>\n      <td>NaN</td>\n      <td>NaN</td>\n      <td>NaN</td>\n      <td>NaN</td>\n    </tr>\n    <tr>\n      <th>10707</th>\n      <td>ES_MD</td>\n      <td>2020-06-24</td>\n      <td>Q5756</td>\n      <td>nuts/ES30</td>\n      <td>ES</td>\n      <td>Spain</td>\n      <td>MD</td>\n      <td>Comunidad de Madrid</td>\n      <td>NaN</td>\n      <td>NaN</td>\n      <td>...</td>\n      <td>NaN</td>\n      <td>NaN</td>\n      <td>NaN</td>\n      <td>NaN</td>\n      <td>NaN</td>\n      <td>NaN</td>\n      <td>NaN</td>\n      <td>NaN</td>\n      <td>NaN</td>\n      <td>NaN</td>\n    </tr>\n    <tr>\n      <th>10708</th>\n      <td>ES_MD</td>\n      <td>2020-06-25</td>\n      <td>Q5756</td>\n      <td>nuts/ES30</td>\n      <td>ES</td>\n      <td>Spain</td>\n      <td>MD</td>\n      <td>Comunidad de Madrid</td>\n      <td>NaN</td>\n      <td>NaN</td>\n      <td>...</td>\n      <td>NaN</td>\n      <td>NaN</td>\n      <td>NaN</td>\n      <td>NaN</td>\n      <td>NaN</td>\n      <td>NaN</td>\n      <td>NaN</td>\n      <td>NaN</td>\n      <td>NaN</td>\n      <td>NaN</td>\n    </tr>\n    <tr>\n      <th>10709</th>\n      <td>ES_MD</td>\n      <td>2020-06-26</td>\n      <td>Q5756</td>\n      <td>nuts/ES30</td>\n      <td>ES</td>\n      <td>Spain</td>\n      <td>MD</td>\n      <td>Comunidad de Madrid</td>\n      <td>NaN</td>\n      <td>NaN</td>\n      <td>...</td>\n      <td>NaN</td>\n      <td>NaN</td>\n      <td>NaN</td>\n      <td>NaN</td>\n      <td>NaN</td>\n      <td>NaN</td>\n      <td>NaN</td>\n      <td>NaN</td>\n      <td>NaN</td>\n      <td>NaN</td>\n    </tr>\n    <tr>\n      <th>10710</th>\n      <td>ES_MD</td>\n      <td>2020-06-27</td>\n      <td>Q5756</td>\n      <td>nuts/ES30</td>\n      <td>ES</td>\n      <td>Spain</td>\n      <td>MD</td>\n      <td>Comunidad de Madrid</td>\n      <td>NaN</td>\n      <td>NaN</td>\n      <td>...</td>\n      <td>NaN</td>\n      <td>NaN</td>\n      <td>NaN</td>\n      <td>NaN</td>\n      <td>NaN</td>\n      <td>NaN</td>\n      <td>NaN</td>\n      <td>NaN</td>\n      <td>NaN</td>\n      <td>NaN</td>\n    </tr>\n  </tbody>\n</table>\n<p>5 rows × 103 columns</p>\n</div>"
     },
     "metadata": {},
     "execution_count": 5
    }
   ],
   "source": [
    "# Filter records for Madrid, one of the subregions of Spain\n",
    "madrid = data[data.key == 'ES_MD']\n",
    "\n",
    "madrid.tail()"
   ]
  },
  {
   "cell_type": "markdown",
   "metadata": {},
   "source": [
    "### Dataset Subsets\n",
    "The master table can be large and cumbersome depending on your application. If you only need a subset of the data, you can consult each table individually. For a list of all the available tables, see the [README](../README.md) of the repo. For example, here's how you would get only epidemiology data for Madrid:"
   ]
  },
  {
   "cell_type": "code",
   "execution_count": 6,
   "metadata": {},
   "outputs": [
    {
     "output_type": "execute_result",
     "data": {
      "text/plain": "              date    key  new_confirmed  new_deceased  new_recovered  \\\n269883  2020-05-16  ES_MD           24.0          21.0            NaN   \n274513  2020-05-17  ES_MD           39.0          16.0            NaN   \n279114  2020-05-18  ES_MD          126.0          31.0            NaN   \n283809  2020-05-19  ES_MD          139.0          18.0            NaN   \n288476  2020-05-20  ES_MD           82.0          19.0            NaN   \n\n        new_tested  total_confirmed  total_deceased  total_recovered  \\\n269883         NaN          66663.0          8847.0              NaN   \n274513         NaN          66702.0          8863.0              NaN   \n279114         NaN          66828.0          8894.0              NaN   \n283809         NaN          66967.0          8912.0              NaN   \n288476         NaN          67049.0          8931.0              NaN   \n\n        total_tested  \n269883           NaN  \n274513           NaN  \n279114           NaN  \n283809           NaN  \n288476           NaN  ",
      "text/html": "<div>\n<style scoped>\n    .dataframe tbody tr th:only-of-type {\n        vertical-align: middle;\n    }\n\n    .dataframe tbody tr th {\n        vertical-align: top;\n    }\n\n    .dataframe thead th {\n        text-align: right;\n    }\n</style>\n<table border=\"1\" class=\"dataframe\">\n  <thead>\n    <tr style=\"text-align: right;\">\n      <th></th>\n      <th>date</th>\n      <th>key</th>\n      <th>new_confirmed</th>\n      <th>new_deceased</th>\n      <th>new_recovered</th>\n      <th>new_tested</th>\n      <th>total_confirmed</th>\n      <th>total_deceased</th>\n      <th>total_recovered</th>\n      <th>total_tested</th>\n    </tr>\n  </thead>\n  <tbody>\n    <tr>\n      <th>269883</th>\n      <td>2020-05-16</td>\n      <td>ES_MD</td>\n      <td>24.0</td>\n      <td>21.0</td>\n      <td>NaN</td>\n      <td>NaN</td>\n      <td>66663.0</td>\n      <td>8847.0</td>\n      <td>NaN</td>\n      <td>NaN</td>\n    </tr>\n    <tr>\n      <th>274513</th>\n      <td>2020-05-17</td>\n      <td>ES_MD</td>\n      <td>39.0</td>\n      <td>16.0</td>\n      <td>NaN</td>\n      <td>NaN</td>\n      <td>66702.0</td>\n      <td>8863.0</td>\n      <td>NaN</td>\n      <td>NaN</td>\n    </tr>\n    <tr>\n      <th>279114</th>\n      <td>2020-05-18</td>\n      <td>ES_MD</td>\n      <td>126.0</td>\n      <td>31.0</td>\n      <td>NaN</td>\n      <td>NaN</td>\n      <td>66828.0</td>\n      <td>8894.0</td>\n      <td>NaN</td>\n      <td>NaN</td>\n    </tr>\n    <tr>\n      <th>283809</th>\n      <td>2020-05-19</td>\n      <td>ES_MD</td>\n      <td>139.0</td>\n      <td>18.0</td>\n      <td>NaN</td>\n      <td>NaN</td>\n      <td>66967.0</td>\n      <td>8912.0</td>\n      <td>NaN</td>\n      <td>NaN</td>\n    </tr>\n    <tr>\n      <th>288476</th>\n      <td>2020-05-20</td>\n      <td>ES_MD</td>\n      <td>82.0</td>\n      <td>19.0</td>\n      <td>NaN</td>\n      <td>NaN</td>\n      <td>67049.0</td>\n      <td>8931.0</td>\n      <td>NaN</td>\n      <td>NaN</td>\n    </tr>\n  </tbody>\n</table>\n</div>"
     },
     "metadata": {},
     "execution_count": 6
    }
   ],
   "source": [
    "# Load the epidemiology table\n",
    "# Note that all the helper columns such as country code, country name, aggregation level, etc. are present in the\n",
    "# `index` table; we only have the key here\n",
    "epi = pd.read_csv('https://storage.googleapis.com/covid19-open-data/v2/epidemiology.csv')\n",
    "\n",
    "# Filter records for Madrid, one of the subregions of Spain\n",
    "madrid = epi[epi.key == 'ES_MD']\n",
    "\n",
    "madrid.tail()"
   ]
  },
  {
   "cell_type": "markdown",
   "metadata": {},
   "source": [
    "### Data consistency\n",
    "Often, region-level data and country-level data will come from different sources. This will lead to numbers not adding up exactly, or even date misalignment (the data for the region may be reported sooner or later than the whole country). However, country- and region- level data will *always* be self-consistent"
   ]
  }
 ],
 "metadata": {
  "file_extension": ".py",
  "kernelspec": {
   "display_name": "Python 3",
   "language": "python",
   "name": "python3"
  },
  "language_info": {
   "codemirror_mode": {
    "name": "ipython",
    "version": 3
   },
   "file_extension": ".py",
   "mimetype": "text/x-python",
   "name": "python",
   "nbconvert_exporter": "python",
   "pygments_lexer": "ipython3",
   "version": "3.7.6-final"
  },
  "mimetype": "text/x-python",
  "name": "python",
  "npconvert_exporter": "python",
  "pygments_lexer": "ipython3",
  "version": 3
 },
 "nbformat": 4,
 "nbformat_minor": 4
}